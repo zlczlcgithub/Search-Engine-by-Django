{
 "cells": [
  {
   "cell_type": "code",
   "execution_count": 27,
   "metadata": {},
   "outputs": [],
   "source": [
    "sentences = []\n",
    "for index in [\"000\",\"100\",\"200\",\"300\",\"400\",\"500\",\"600\",\"700\",\"800\",\"900\",\"1000\",\"1100\",\"1200\",\"2000\",\"2100\"]:\n",
    "    filename = \"_test_data_\"+ index + \"s\" + \".py\"\n",
    "    F = open(filename,\"r\",errors=\"ignore\") \n",
    "    lines = F.readlines()\n",
    "    F.close()\n",
    "    flag = False\n",
    "    for id, line in enumerate(lines):\n",
    "        if not line.strip():\n",
    "            continue\n",
    "        if flag:\n",
    "            if line.strip().startswith(\"'positive\"):\n",
    "                flag = True\n",
    "            elif line.strip().startswith(\"]\"):\n",
    "                flag = False\n",
    "            elif line.strip()[0] in ['\"',\"'\"]:\n",
    "                sentences.append(line.strip()[1:-2])\n",
    "        else:\n",
    "            if line.strip().startswith(\"'positive\"):\n",
    "                flag = True\n",
    "    "
   ]
  },
  {
   "cell_type": "code",
   "execution_count": 29,
   "metadata": {},
   "outputs": [
    {
     "data": {
      "text/plain": [
       "13685"
      ]
     },
     "execution_count": 29,
     "metadata": {},
     "output_type": "execute_result"
    }
   ],
   "source": [
    "len(sentences)"
   ]
  },
  {
   "cell_type": "code",
   "execution_count": 32,
   "metadata": {},
   "outputs": [],
   "source": [
    "with open('positive_sentences.txt', 'w') as f:\n",
    "    for line in sentences:\n",
    "        f.write(\"%s\\n\" % line)\n"
   ]
  },
  {
   "cell_type": "code",
   "execution_count": null,
   "metadata": {},
   "outputs": [],
   "source": []
  }
 ],
 "metadata": {
  "kernelspec": {
   "display_name": "Python 3",
   "language": "python",
   "name": "python3"
  }
 },
 "nbformat": 4,
 "nbformat_minor": 2
}
