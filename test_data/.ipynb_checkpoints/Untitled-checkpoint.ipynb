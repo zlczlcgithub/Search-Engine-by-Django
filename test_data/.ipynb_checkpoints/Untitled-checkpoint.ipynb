{
 "cells": [
  {
   "cell_type": "code",
   "execution_count": 70,
   "metadata": {},
   "outputs": [],
   "source": [
    "sentences = []\n",
    "super_cat = []\n",
    "sub_cat = []\n",
    "for index in [\"000\",\"100\",\"200\",\"300\",\"400\",\"500\",\"600\",\"700\",\"800\",\"900\",\"1000\",\"1100\",\"1200\",\"2000\",\"2100\"]:\n",
    "    filename = \"_test_data_\"+ index + \"s\" + \".py\"\n",
    "    F = open(filename,\"r\",errors=\"ignore\") \n",
    "    lines = F.readlines()\n",
    "    F.close()\n",
    "    flag = False\n",
    "    for id, line in enumerate(lines):\n",
    "        if not line.strip():\n",
    "            continue\n",
    "        if flag:\n",
    "            if line.strip().startswith(\"]\"):\n",
    "                flag = False\n",
    "            # extract sentences\n",
    "            elif line.strip()[0] in ['\"', \"'\"]:\n",
    "                # while extracting backslash\n",
    "                sentences.append(line.strip()[1:-2].replace(\"\\\\\", \"\"))\n",
    "                super_cat.append(super)\n",
    "                sub_cat.append(sub)\n",
    "        else:\n",
    "            if line.strip().startswith(\"'positive\"):\n",
    "                flag = True\n",
    "            elif line.strip().startswith(\"# **Super category:**\"):\n",
    "                super = line.strip().split(\"* \")[-1]\n",
    "            elif line.strip().startswith(\"# **Sub category:**\"):\n",
    "                sub = line.strip().split(\"* \")[-1]\n",
    "    "
   ]
  },
  {
   "cell_type": "code",
   "execution_count": 71,
   "metadata": {},
   "outputs": [
    {
     "data": {
      "text/plain": [
       "(13685, 13685, 13685)"
      ]
     },
     "execution_count": 71,
     "metadata": {},
     "output_type": "execute_result"
    }
   ],
   "source": [
    "len(sentences),len(super_cat),len(sub_cat)"
   ]
  },
  {
   "cell_type": "code",
   "execution_count": 81,
   "metadata": {},
   "outputs": [],
   "source": [
    "with open('positive_sentences.txt', 'w') as f:\n",
    "    for i in range(len(sentences)):\n",
    "        f.write(\"%s&&%s&&%s\\n\" % (sentences[i],super_cat[i],sub_cat[i]))\n"
   ]
  },
  {
   "cell_type": "code",
   "execution_count": 84,
   "metadata": {},
   "outputs": [
    {
     "name": "stdout",
     "output_type": "stream",
     "text": [
      "The teachers are very nice and friendly. ADJECTIVES combining\n"
     ]
    }
   ],
   "source": [
    "with open('/Users/Jeremy/Documents/python/joyz/search engine/test_data/positive_sentences.txt', 'r') as f: \n",
    "    lines = f.readlines() \n",
    "    for line in lines: \n",
    "        [s,super,sub] = line.strip().split(\"&&\") \n",
    "        sen = Sentence(sentence = s, super_cat = super, sub_cat = sub)\n",
    "        sen.save()"
   ]
  },
  {
   "cell_type": "code",
   "execution_count": null,
   "metadata": {},
   "outputs": [],
   "source": []
  }
 ],
 "metadata": {
  "kernelspec": {
   "display_name": "Python 3",
   "language": "python",
   "name": "python3"
  },
  "language_info": {
   "codemirror_mode": {
    "name": "ipython",
    "version": 3
   },
   "file_extension": ".py",
   "mimetype": "text/x-python",
   "name": "python",
   "nbconvert_exporter": "python",
   "pygments_lexer": "ipython3",
   "version": "3.6.7"
  }
 },
 "nbformat": 4,
 "nbformat_minor": 2
}
